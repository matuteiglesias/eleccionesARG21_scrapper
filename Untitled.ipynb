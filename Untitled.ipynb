{
 "cells": [
  {
   "cell_type": "code",
   "execution_count": 3,
   "metadata": {},
   "outputs": [],
   "source": [
    "#import packages\n",
    "# from urllib import request\n",
    "# from bs4 import SoupStrainer, BeautifulSoup\n",
    "import bs4 as bs\n",
    "import requests\n",
    "\n",
    "import re\n",
    "import pandas as pd\n",
    "import numpy as np"
   ]
  },
  {
   "cell_type": "code",
   "execution_count": null,
   "metadata": {},
   "outputs": [],
   "source": []
  },
  {
   "cell_type": "code",
   "execution_count": null,
   "metadata": {},
   "outputs": [],
   "source": []
  },
  {
   "cell_type": "code",
   "execution_count": null,
   "metadata": {},
   "outputs": [],
   "source": [
    "# class MyOpener(FancyURLopener):\n",
    "#     version = 'Mozilla/5.0 (Macintosh; Intel Mac OS X 10_9_2) AppleWebKit/537.36 (KHTML, like Gecko) Chrome/33.0.1750.152 Safari/537.36'\n",
    "# openurl = MyOpener().open\n",
    "\n",
    "def data_from_page_senadores(url):\n",
    "    \"\"\"\n",
    "    Function to scrap relevant data from election results webpage.\n",
    "    \n",
    "    Input url and outputs a dataframe row with a bunch of information from the page.\n",
    "    \"\"\"\n",
    "    \n",
    "    url = openurl(url)\n",
    "    page = BeautifulSoup(url.read())"
   ]
  },
  {
   "cell_type": "code",
   "execution_count": 9,
   "metadata": {},
   "outputs": [],
   "source": [
    "url = 'https://resultados.gob.ar/elecciones/3/3137/1/-1/-1/Ciudad-Aut%C3%B3noma-de-Buenos-Aires/Comuna-12/00125#agrupaciones'\n",
    "# sauce = requests.get(url)\n",
    "# soup = bs.BeautifulSoup(sauce.content,'html.parser')\n",
    "# print(soup.find_all('p'))\n",
    "# print(soup.prettify())\n",
    "\n",
    "response = requests.get(url)"
   ]
  },
  {
   "cell_type": "code",
   "execution_count": 11,
   "metadata": {},
   "outputs": [
    {
     "data": {
      "text/plain": [
       "'<!doctype html><html lang=\"es-AR\"><head><meta charset=\"utf-8\"/><link rel=\"icon\" href=\"/favicon.ico\"/><meta name=\"viewport\" content=\"width=device-width,initial-scale=1\"/><meta name=\"theme-color\" content=\"#000000\"/><meta name=\"description\" content=\"Web site created using create-react-app\"/><link rel=\"apple-touch-icon\" href=\"/logo192.png\"/><link rel=\"manifest\" href=\"/manifest.json\"/><title>Elecciones PASO</title><link href=\"/static/css/2.b269395d.chunk.css\" rel=\"stylesheet\"><link href=\"/static/css/main.6be28c46.chunk.css\" rel=\"stylesheet\"></head><body><noscript>You need to enable JavaScript to run this app.</noscript><div id=\"root\"></div><script>!function(e){function t(t){for(var n,a,i=t[0],c=t[1],l=t[2],p=0,s=[];p<i.length;p++)a=i[p],Object.prototype.hasOwnProperty.call(o,a)&&o[a]&&s.push(o[a][0]),o[a]=0;for(n in c)Object.prototype.hasOwnProperty.call(c,n)&&(e[n]=c[n]);for(f&&f(t);s.length;)s.shift()();return u.push.apply(u,l||[]),r()}function r(){for(var e,t=0;t<u.length;t++){for(var r=u[t],n=!0,i=1;i<r.length;i++){var c=r[i];0!==o[c]&&(n=!1)}n&&(u.splice(t--,1),e=a(a.s=r[0]))}return e}var n={},o={1:0},u=[];function a(t){if(n[t])return n[t].exports;var r=n[t]={i:t,l:!1,exports:{}};return e[t].call(r.exports,r,r.exports,a),r.l=!0,r.exports}a.e=function(e){var t=[],r=o[e];if(0!==r)if(r)t.push(r[2]);else{var n=new Promise((function(t,n){r=o[e]=[t,n]}));t.push(r[2]=n);var u,i=document.createElement(\"script\");i.charset=\"utf-8\",i.timeout=120,a.nc&&i.setAttribute(\"nonce\",a.nc),i.src=function(e){return a.p+\"static/js/\"+({}[e]||e)+\".\"+{3:\"26081cc2\",4:\"e0b7365c\",5:\"30f70346\"}[e]+\".chunk.js\"}(e);var c=new Error;u=function(t){i.onerror=i.onload=null,clearTimeout(l);var r=o[e];if(0!==r){if(r){var n=t&&(\"load\"===t.type?\"missing\":t.type),u=t&&t.target&&t.target.src;c.message=\"Loading chunk \"+e+\" failed.\\\\n(\"+n+\": \"+u+\")\",c.name=\"ChunkLoadError\",c.type=n,c.request=u,r[1](c)}o[e]=void 0}};var l=setTimeout((function(){u({type:\"timeout\",target:i})}),12e4);i.onerror=i.onload=u,document.head.appendChild(i)}return Promise.all(t)},a.m=e,a.c=n,a.d=function(e,t,r){a.o(e,t)||Object.defineProperty(e,t,{enumerable:!0,get:r})},a.r=function(e){\"undefined\"!=typeof Symbol&&Symbol.toStringTag&&Object.defineProperty(e,Symbol.toStringTag,{value:\"Module\"}),Object.defineProperty(e,\"__esModule\",{value:!0})},a.t=function(e,t){if(1&t&&(e=a(e)),8&t)return e;if(4&t&&\"object\"==typeof e&&e&&e.__esModule)return e;var r=Object.create(null);if(a.r(r),Object.defineProperty(r,\"default\",{enumerable:!0,value:e}),2&t&&\"string\"!=typeof e)for(var n in e)a.d(r,n,function(t){return e[t]}.bind(null,n));return r},a.n=function(e){var t=e&&e.__esModule?function(){return e.default}:function(){return e};return a.d(t,\"a\",t),t},a.o=function(e,t){return Object.prototype.hasOwnProperty.call(e,t)},a.p=\"/\",a.oe=function(e){throw e};var i=this.webpackJsonpapp=this.webpackJsonpapp||[],c=i.push.bind(i);i.push=t,i=i.slice();for(var l=0;l<i.length;l++)t(i[l]);var f=c;r()}([])</script><script src=\"/static/js/2.95658587.chunk.js\"></script><script src=\"/static/js/main.20c6c6d4.chunk.js\"></script></body></html>'"
      ]
     },
     "execution_count": 11,
     "metadata": {},
     "output_type": "execute_result"
    }
   ],
   "source": [
    "response.text"
   ]
  },
  {
   "cell_type": "code",
   "execution_count": 14,
   "metadata": {},
   "outputs": [],
   "source": [
    "from selenium import webdriver\n",
    "from selenium.webdriver.common.keys import Keys\n",
    "\n",
    "driver = webdriver.Firefox()\n",
    "driver.get(\"http://www.python.org\")\n",
    "assert \"Python\" in driver.title\n",
    "# elem = driver.find_element_by_name(\"q\")\n",
    "elem = driver.find_element_by_tag_name(\"div\")\n",
    "# elem.clear()\n",
    "# elem.send_keys(\"pycon\")\n",
    "# elem.send_keys(Keys.RETURN)\n",
    "# assert \"No results found.\" not in driver.page_source\n",
    "\n",
    "driver.close()"
   ]
  },
  {
   "cell_type": "code",
   "execution_count": 62,
   "metadata": {},
   "outputs": [],
   "source": [
    "# given an element defined as:\n",
    "\n",
    "# <input type=\"text\" name=\"passwd\" id=\"passwd-id\" />\n",
    "# <menu-7 id=\"menu-7\" class=\"Dropdownbox__List-dDVmyU ggnRIT\" role=\"listbox\" aria-labelledby=\"downshift-83-label\">\n",
    "\n",
    "# you could find it using any of:\n",
    "\n",
    "# element = driver.find_element_by_id(\"menu-7\")\n",
    "# element = driver.find_element_by_xpath(\"//menu-7[@id='menu-7']\")\n",
    "# element = driver.find_element_by_css_selector(\"menu-7#menu-7\")\n",
    "\n",
    "\n",
    "# <div id=\"root\">\n",
    "# element = driver.find_element_by_id(\"root\")\n",
    "# <nav class=\"NavMenu__Container-dZELt…_SNavMenu-cmglKK gpvJyq\">\n",
    "# <svg class=\"NavMenu___StyledFiltroIcon-bfIXDX iuaeqU\" width=\"44\" height=\"44\" viewBox=\"0 0 44 44\" fill=\"none\" xmlns=\"http://www.w3.org/2000/svg\">\n",
    "\n",
    "\n",
    "url = 'https://resultados.gob.ar/elecciones/3/3137/1/-1/-1/Ciudad-Aut%C3%B3noma-de-Buenos-Aires/Comuna-12/00125#agrupaciones'\n",
    "\n",
    "driver = webdriver.Firefox()\n",
    "driver.get(url)\n",
    "\n",
    "# element = driver.find_element_by_id(\"root\")\n",
    "# elem2 = element.find_element_by_tag_name(\"nav\")\n",
    "# elem2.click()\n",
    "\n",
    "# elem1 = driver.find_element_by_id(\"menu-7\")\n",
    "# elem2 = driver.find_element_by_xpath(\"//menu-7[@id='menu-7']\")\n",
    "# elem3 = driver.find_element_by_css_selector(\"menu-7#menu-7\")\n",
    "\n",
    "\n",
    "# element.click()\n",
    "# driver.close()\n"
   ]
  },
  {
   "cell_type": "code",
   "execution_count": 128,
   "metadata": {},
   "outputs": [
    {
     "name": "stdout",
     "output_type": "stream",
     "text": [
      "Buenos Aires\n",
      "Catamarca\n",
      "Chaco\n",
      "Chubut\n",
      "Ciudad Autónoma de Buenos Aires\n",
      "Corrientes\n",
      "Córdoba\n",
      "Entre Ríos\n",
      "Formosa\n",
      "Jujuy\n",
      "La Pampa\n",
      "La Rioja\n",
      "Mendoza\n",
      "Misiones\n",
      "Neuquén\n",
      "Río Negro\n",
      "Salta\n",
      "San Juan\n",
      "San Luis\n",
      "Santa Cruz\n",
      "Santa Fe\n",
      "Santiago del Estero\n",
      "Tierra del Fuego, Antártida e Islas del Atlántico Sur\n",
      "Tucumán\n"
     ]
    }
   ],
   "source": [
    "url = 'https://resultados.gob.ar/elecciones/3/0/1/-1/-1' # DIP NACS\n",
    "# url = 'https://resultados.gob.ar/elecciones/2/0/1/-1/-1' # SEN NACS\n",
    "# https://resultados.gob.ar/elecciones/3/128588/1/-1/-1/\n",
    "### Ultima mesa\n",
    "\n",
    "## Lista de provincias\n",
    "\n",
    "\n",
    "driver = webdriver.Firefox()\n",
    "driver.get(url)\n",
    "\n",
    "import time\n",
    "time.sleep(3)\n",
    "\n",
    "\n",
    "element = driver.find_element_by_id(\"root\")\n",
    "elem2 = element.find_element_by_class_name(\"NavMenu__Container-dZELtJ\")\n",
    "elem2.click()\n",
    "\n",
    "# <button class=\"Dropdownbox__Opener-tLZCp byDCKs\" aria-expanded=\"false\" aria-controls=\"menu-2\" aria-label=\"Escoja una provincia\">\n",
    "elem3 = elem2.find_element_by_class_name(\"Dropdownbox__Opener-tLZCp\")\n",
    "elem3.click()\n",
    "\n",
    "elem4 = elem2.find_element_by_id(\"menu-2\")\n",
    "print(elem4.text)\n"
   ]
  },
  {
   "cell_type": "code",
   "execution_count": 129,
   "metadata": {},
   "outputs": [],
   "source": [
    "driver.close()"
   ]
  },
  {
   "cell_type": "code",
   "execution_count": 125,
   "metadata": {},
   "outputs": [
    {
     "data": {
      "text/plain": [
       "<selenium.webdriver.firefox.webelement.FirefoxWebElement (session=\"c2de68ff-c87e-49ad-a760-81a571eeea27\", element=\"c5a17b23-de23-4901-b7cc-5712269bef8d\")>"
      ]
     },
     "execution_count": 125,
     "metadata": {},
     "output_type": "execute_result"
    }
   ],
   "source": [
    "elem2.find_element_by_id(\"menu-2\")"
   ]
  },
  {
   "cell_type": "code",
   "execution_count": null,
   "metadata": {},
   "outputs": [],
   "source": [
    "url = 'https://resultados.gob.ar/elecciones/3/3137/1/-1/-1/Ciudad-Aut%C3%B3noma-de-Buenos-Aires/Comuna-12/00125#agrupaciones'\n",
    "\n",
    "driver = webdriver.Firefox()\n",
    "driver.get(url)\n",
    "\n",
    "import time\n",
    "time.sleep(3)\n",
    "\n",
    "# try:\n",
    "#     element = WebDriverWait(driver, 10).until(\n",
    "#         EC.presence_of_element_located((By.tag, \"nav\"))\n",
    "#     )\n",
    "# except:\n",
    "#     pass\n",
    "\n",
    "element = driver.find_element_by_id(\"root\")\n",
    "\n",
    "# elem2 = element.find_element_by_tag_name(\"nav\")\n",
    "\n",
    "# <nav class=\"NavMenu__Container-dZELtJ eBAoEc Header__SNavMenu-cmglKK gpvJyq\">\n",
    "elem2 = element.find_element_by_class_name(\"NavMenu__Container-dZELtJ\")\n",
    "\n",
    "elem2.click()\n",
    "\n",
    "elem2 = element.find_element_by_class_name(\"NavMenu__Container-dZELtJ\")\n",
    "\n",
    "# <button id=\"downshift-4-toggle-button\" tabindex=\"-1\" style=\"background: rgba(0, 0, 0…ne repeat scroll 0% 0%;\" aria-hidden=\"true\">\n",
    "# elem3 = elem2.find_element_by_id(\"downshift-4-toggle-button\")\n",
    "# elem3.click()\n",
    "\n",
    "# <input id=\"downshift-4-input\" class=\"Dropdownbox__SInput-jSpFAX csVrte\" \n",
    "# aria-autocomplete=\"list\" aria-controls=\"downshift-4-menu\" aria-labelledby=\"downshift-4-label\" \n",
    "# autocomplete=\"off\" placeholder=\"Introduzca un local de comicio\" value=\"\">\n",
    "\n",
    "# <ul id=\"menu-7\" class=\"Dropdownbox__List-dDVmyU ggnRIT\" role=\"listbox\" aria-labelledby=\"downshift-4-label\">\n",
    "elem4 = elem2.find_element_by_id(\"menu-7\")\n",
    "elem4.text\n",
    "driver.close()"
   ]
  },
  {
   "cell_type": "code",
   "execution_count": 108,
   "metadata": {},
   "outputs": [],
   "source": [
    "url = 'https://resultados.gob.ar/elecciones/3/3137/1/-1/-1/Ciudad-Aut%C3%B3noma-de-Buenos-Aires/Comuna-12/00125#agrupaciones'\n",
    "\n",
    "driver = webdriver.Firefox()\n",
    "driver.get(url)\n",
    "\n",
    "import time\n",
    "time.sleep(3)\n",
    "\n",
    "# try:\n",
    "#     element = WebDriverWait(driver, 10).until(\n",
    "#         EC.presence_of_element_located((By.tag, \"nav\"))\n",
    "#     )\n",
    "# except:\n",
    "#     pass\n",
    "\n",
    "element = driver.find_element_by_id(\"root\")\n",
    "\n",
    "# elem2 = element.find_element_by_tag_name(\"nav\")\n",
    "\n",
    "# <nav class=\"NavMenu__Container-dZELtJ eBAoEc Header__SNavMenu-cmglKK gpvJyq\">\n",
    "elem2 = element.find_element_by_class_name(\"NavMenu__Container-dZELtJ\")\n",
    "\n",
    "elem2.click()\n",
    "\n",
    "elem2 = element.find_element_by_class_name(\"NavMenu__Container-dZELtJ\")\n",
    "\n",
    "# <button id=\"downshift-4-toggle-button\" tabindex=\"-1\" style=\"background: rgba(0, 0, 0…ne repeat scroll 0% 0%;\" aria-hidden=\"true\">\n",
    "# elem3 = elem2.find_element_by_id(\"downshift-4-toggle-button\")\n",
    "# elem3.click()\n",
    "\n",
    "# <input id=\"downshift-4-input\" class=\"Dropdownbox__SInput-jSpFAX csVrte\" \n",
    "# aria-autocomplete=\"list\" aria-controls=\"downshift-4-menu\" aria-labelledby=\"downshift-4-label\" \n",
    "# autocomplete=\"off\" placeholder=\"Introduzca un local de comicio\" value=\"\">\n",
    "\n",
    "# <ul id=\"menu-7\" class=\"Dropdownbox__List-dDVmyU ggnRIT\" role=\"listbox\" aria-labelledby=\"downshift-4-label\">\n",
    "elem4 = elem2.find_element_by_id(\"menu-7\")\n",
    "elem4.text"
   ]
  },
  {
   "cell_type": "code",
   "execution_count": null,
   "metadata": {},
   "outputs": [],
   "source": []
  },
  {
   "cell_type": "code",
   "execution_count": 106,
   "metadata": {},
   "outputs": [],
   "source": [
    "driver.close()"
   ]
  },
  {
   "cell_type": "code",
   "execution_count": 20,
   "metadata": {},
   "outputs": [],
   "source": [
    "from selenium import webdriver\n",
    "from selenium.webdriver.common.keys import Keys\n",
    "\n",
    "driver = webdriver.Firefox()\n",
    "driver.get(url)\n",
    "# assert \"Resultados\" in driver.title\n",
    "\n",
    "# elem = driver.find_element_by_tag_name(\"div\")\n",
    "elem = driver.find_element_by_id(\"root\")\n",
    "# elem.find_element_by_id(\"root\")\n",
    "\n",
    "# elem.clear()\n",
    "# elem.send_keys(\"pycon\")\n",
    "# elem.send_keys(Keys.RETURN)\n",
    "# assert \"No results found.\" not in driver.page_source\n",
    "driver.close()"
   ]
  },
  {
   "cell_type": "code",
   "execution_count": 22,
   "metadata": {},
   "outputs": [],
   "source": [
    "elem?"
   ]
  },
  {
   "cell_type": "code",
   "execution_count": 11,
   "metadata": {},
   "outputs": [],
   "source": [
    "assert \"Resultados\" in driver.title\n"
   ]
  },
  {
   "cell_type": "code",
   "execution_count": null,
   "metadata": {},
   "outputs": [],
   "source": []
  }
 ],
 "metadata": {
  "kernelspec": {
   "display_name": "Python 3",
   "language": "python",
   "name": "python3"
  },
  "language_info": {
   "codemirror_mode": {
    "name": "ipython",
    "version": 3
   },
   "file_extension": ".py",
   "mimetype": "text/x-python",
   "name": "python",
   "nbconvert_exporter": "python",
   "pygments_lexer": "ipython3",
   "version": "3.8.5"
  }
 },
 "nbformat": 4,
 "nbformat_minor": 4
}
